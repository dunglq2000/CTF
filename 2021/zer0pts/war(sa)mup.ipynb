{
 "cells": [
  {
   "cell_type": "markdown",
   "metadata": {},
   "source": [
    "## war(sa)mup"
   ]
  },
  {
   "cell_type": "code",
   "execution_count": null,
   "metadata": {},
   "outputs": [],
   "source": [
    "from Crypto.Util.number import getStrongPrime, GCD\n",
    "from random import randint\n",
    "from flag import flag\n",
    "import os\n",
    "\n",
    "def pad(m: int, n: int):\n",
    "  # PKCS#1 v1.5 maybe\n",
    "  ms = m.to_bytes((m.bit_length() + 7) // 8, \"big\")\n",
    "  ns = n.to_bytes((n.bit_length() + 7) // 8, \"big\")\n",
    "  assert len(ms) <= len(ns) - 11\n",
    "\n",
    "  ps = b\"\"\n",
    "  while len(ps) < len(ns) - len(ms) - 3:\n",
    "    p = os.urandom(1)\n",
    "    if p != b\"\\x00\":\n",
    "      ps += p\n",
    "  return int.from_bytes(b\"\\x00\\x02\" + ps + b\"\\x00\" + ms, \"big\")\n",
    "\n",
    "\n",
    "while True:\n",
    "  p = getStrongPrime(512)\n",
    "  q = getStrongPrime(512)\n",
    "  n = p * q\n",
    "  phi = (p-1)*(q-1)\n",
    "  e = 1337\n",
    "  if GCD(phi, e) == 1:\n",
    "    break\n",
    "\n",
    "m = pad(int.from_bytes(flag, \"big\"), n)\n",
    "c1 = pow(m, e, n)\n",
    "c2 = pow(m // 2, e, n)\n",
    "\n",
    "print(\"n =\", n)\n",
    "print(\"e =\", e)\n",
    "print(\"c1=\", c1)\n",
    "print(\"c2=\", c2)\n"
   ]
  },
  {
   "cell_type": "markdown",
   "metadata": {},
   "source": [
    "Đề bài cho mình $c_1 = m^e \\pmod n$ và $c_2 = (m/2)^e \\pmod n$, mình dễ dàng thấy rằng $m=2x+1$ bằng việc nhân $c_2$ với $2^e$ và so sánh với $c_1$. Như vậy mình xây dựng 2 đa thức: $f = (2*x+1)^e-c_1$ và $g = x^e-c_2$ trên modulo $n$. Do **m//2** là nghiệm chung của 2 đa thức, nên mình sẽ có $x - m//2 = gcd(f, g)$. Đặt $a=m//2$, flag chính là $2a+1$"
   ]
  },
  {
   "cell_type": "code",
   "execution_count": 2,
   "metadata": {},
   "outputs": [
    {
     "name": "stdout",
     "output_type": "stream",
     "text": [
      "b'\\x02\\x81\\xae\\xed \\xdd\\x07\\x12;\\x99\\xc7d:\\x99\\x1a8\\x16\\xfe\\xe6<\\x18\\x1dw\\xea&\\xfb\\xfc\\x8a\\xa7\\xa8\\xba\\xfa\\xd8\\xbe\\xdf\\x01\\x13\\xcb\\xd3\\x99\\x9c\\xf3_\\x18qw\\xb99}\\'Q\\xd7~\\x03&^\\xcd\\x9aw\\xf0\\xef\\xb5\\x04\\x1b\\xb7\\n\\xe1\\xcd\"\\x95ff]\\x0c(H\\x99\\xb5\\xed\\xc3\\x82\\x9dl\\xe4\\x8c\\xddx\\xfd\\x00zer0pts{y0u_g07_47_13457_0v3r_1_p0in7}'\n"
     ]
    }
   ],
   "source": [
    "n = 113135121314210337963205879392132245927891839184264376753001919135175107917692925687745642532400388405294058068119159052072165971868084999879938794441059047830758789602416617241611903275905693635535414333219575299357763227902178212895661490423647330568988131820052060534245914478223222846644042189866538583089\n",
    "e = 1337\n",
    "c1= 89077537464844217317838714274752275745737299140754457809311043026310485657525465380612019060271624958745477080123105341040804682893638929826256518881725504468857309066477953222053834586118046524148078925441309323863670353080908506037906892365564379678072687516738199061826782744188465569562164042809701387515\n",
    "c2= 18316499600532548540200088385321489533551929653850367414045951501351666430044325649693237350325761799191454032916563398349042002392547617043109953849020374952672554986583214658990393359680155263435896743098100256476711085394564818470798155739552647869415576747325109152123993105242982918456613831667423815762\n",
    "R.<x> = PolynomialRing(Zmod(n))\n",
    "f = x^1337 - c2\n",
    "g = (2*x + 1)^1337 - c1\n",
    "\n",
    "def gcd(a, b):\n",
    "    while b:\n",
    "        a, b = b, a % b\n",
    "    return a\n",
    "\n",
    "res = gcd(f, g)\n",
    "res = res.monic()\n",
    "a = (-res.coefficients()[0]) % n\n",
    "from Crypto.Util.number import long_to_bytes\n",
    "print(long_to_bytes(2*a+1))"
   ]
  }
 ],
 "metadata": {
  "kernelspec": {
   "display_name": "SageMath 9.2",
   "language": "sage",
   "name": "sagemath"
  },
  "language_info": {
   "codemirror_mode": {
    "name": "ipython",
    "version": 3
   },
   "file_extension": ".py",
   "mimetype": "text/x-python",
   "name": "python",
   "nbconvert_exporter": "python",
   "pygments_lexer": "ipython3",
   "version": "3.7.7"
  }
 },
 "nbformat": 4,
 "nbformat_minor": 4
}
