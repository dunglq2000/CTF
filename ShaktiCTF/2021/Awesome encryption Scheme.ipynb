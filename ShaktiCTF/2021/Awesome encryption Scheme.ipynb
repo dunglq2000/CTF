{
 "cells": [
  {
   "cell_type": "markdown",
   "metadata": {},
   "source": [
    "## Awesome encryption Scheme\n",
    "This challenge give me [encrypting code](encryptor.py) and [ciphertext](encrypted)"
   ]
  },
  {
   "cell_type": "code",
   "execution_count": null,
   "metadata": {},
   "outputs": [],
   "source": [
    "from Crypto.Cipher import AES\n",
    "from Crypto.Util.Padding import pad\n",
    "from hashlib import md5\n",
    "from os import urandom\n",
    "from flag import flag\n",
    "\n",
    "keys = [md5(urandom(3)).digest() for _ in range(2)]\n",
    "\n",
    "\n",
    "def bytexor(da,ta): return bytes(i^j for i,j in zip(da,ta))\n",
    "\n",
    "\n",
    "def get_ciphers(iv1, iv2):\n",
    "    return [\n",
    "        AES.new(keys[0], mode=AES.MODE_CBC, iv=iv1),\n",
    "        AES.new(keys[1], mode=AES.MODE_CFB, iv=iv2, segment_size=8*16),\n",
    "    ]\n",
    "\n",
    "def encrypt(m: bytes, iv1: bytes, iv2: bytes) -> bytes:\n",
    "    m = pad(m,32)\n",
    "    ciphers = get_ciphers(iv1, iv2)\n",
    "    c = m\n",
    "    for cipher in ciphers:\n",
    "        c = b''.join(i[16:]+bytexor(i[:16],cipher.encrypt(i[16:])) for i in [c[i:i+32] for i in range(0,len(c),32)])\n",
    "    return c\n",
    "\n",
    "plaintext = f'finally now i am able to send my secret with double security and double trust, {flag}'.encode()\n",
    "iv1, iv2 = urandom(16),urandom(16)\n",
    "\n",
    "ciphertext = encrypt(plaintext, iv1, iv2)\n",
    "ciphertext = b\":\".join([x.hex().encode() for x in [iv1, iv2, ciphertext]])\n",
    "\n",
    "open('encrypted','wb').write(ciphertext)"
   ]
  },
  {
   "cell_type": "markdown",
   "metadata": {},
   "source": [
    "Here I have 2 keys generated from md5 hash of 2 3-byte strings. Plaintext is encrypted AES twice, first with mode CBC and second with CFB. Mode CBC and CFB can be easily found on internet, for example [here](https://en.wikipedia.org/wiki/Block_cipher_mode_of_operation). From here I can summarise the process encryption:\n",
    "\n",
    "- Split the plaintext to blocks of 32 bytes (**c[i:i+32]**)\n",
    "- Each time of encryption, the program above:\n",
    "+ Remain 16 last bytes (**i[16:]**)\n",
    "+ Encrypt 16 last bytes (**cipher.encrypt(i[16:])**) and xor received ciphertext with 16 first bytes\n",
    "\n",
    "If I call the 16 first bytes of plaintext $P_a$, 16 second bytes of plaintext $P_b$, first AES encryption $E_1$ (with **keys[0]**) and second AES encryption $E_2$ (with **keys[1]**), then after the first encryption: $$C_a || C_b = P_b || (P_a \\oplus E_1(P_b \\oplus iv_1))$$ (here || means concatration of strings)\n",
    "\n",
    "Let $P_a \\oplus E_1(P_b \\oplus iv_1) = T$ Then the second encryption: $$C'_a || C'_b = T || (C_a \\oplus T \\oplus E_2(iv_2))$$"
   ]
  },
  {
   "cell_type": "markdown",
   "metadata": {},
   "source": [
    "So $T$ is first 16 bytes of ciphertext, and I also knew $P_a$, $P_b$ and $iv_1$, so I can bruteforce the key of $E_1$"
   ]
  },
  {
   "cell_type": "code",
   "execution_count": 4,
   "metadata": {},
   "outputs": [
    {
     "name": "stderr",
     "output_type": "stream",
     "text": [
      " 60%|█████▉    | 10020252/16777216 [05:02<03:24, 33116.86it/s]"
     ]
    },
    {
     "name": "stdout",
     "output_type": "stream",
     "text": [
      "b'\\x0e\\x98\\xd7\\xa85\\xb5\\x8d\\xd53\\x8e\\x11\\xb3*\\xad\\x8fX'\n"
     ]
    },
    {
     "name": "stderr",
     "output_type": "stream",
     "text": [
      "\n"
     ]
    }
   ],
   "source": [
    "from Crypto.Cipher import AES\n",
    "from tqdm import tqdm\n",
    "from hashlib import md5\n",
    "from binascii import unhexlify\n",
    "\n",
    "def bytexor(da,ta): \n",
    "    return bytes(i^j for i,j in zip(da,ta))\n",
    "\n",
    "with open(\"encrypted\", \"rb\") as f:\n",
    "    data = f.read().split(b\":\")\n",
    "\n",
    "iv1, iv2, ciphertext = [unhexlify(i) for i in data]\n",
    "plaintext = b'finally now i am able to send my secret with double security and double trust, '\n",
    "# keys = [b'\\x0e\\x98\\xd7\\xa85\\xb5\\x8d\\xd53\\x8e\\x11\\xb3*\\xad\\x8fX', b'\\x192\\xe2\\xb9k\\x83\\x13\\x883\\xfa\\xc3HZt\\xa1\\xe5']\n",
    "# ct = encrypt(plaintext[:32], iv1, iv2)\n",
    "# print(decrypt(ciphertext, iv1, iv2))\n",
    "p1a = plaintext[:16]\n",
    "p1b = plaintext[16:32]\n",
    "t1 = ciphertext[:16]\n",
    "for i in tqdm(range(2**24)):\n",
    "    key = md5(i.to_bytes(3, 'big')).digest()\n",
    "    c1 = AES.new(key, AES.MODE_ECB).encrypt(bytexor(p1b, iv1))\n",
    "    if bytexor(c1, p1a) == t1:\n",
    "        print(key)\n",
    "        break"
   ]
  },
  {
   "cell_type": "markdown",
   "metadata": {},
   "source": [
    "I also knew $C_a \\oplus T \\oplus E_2(iv_2)$ (next 16 bytes of $T$), and notice that $C_a = P_b$ :)) Then I can easily recover the second key"
   ]
  },
  {
   "cell_type": "code",
   "execution_count": 6,
   "metadata": {},
   "outputs": [
    {
     "name": "stderr",
     "output_type": "stream",
     "text": [
      "  6%|▌         | 924898/16777216 [00:25<07:11, 36775.01it/s]"
     ]
    },
    {
     "name": "stdout",
     "output_type": "stream",
     "text": [
      "b'\\x192\\xe2\\xb9k\\x83\\x13\\x883\\xfa\\xc3HZt\\xa1\\xe5'\n"
     ]
    },
    {
     "name": "stderr",
     "output_type": "stream",
     "text": [
      "\n"
     ]
    }
   ],
   "source": [
    "p1a = plaintext[:16]\n",
    "p1b = plaintext[16:32]\n",
    "t1 = ciphertext[:16]\n",
    "t1_ = ciphertext[16:32]\n",
    "c1_ = bytexor(t1_, p1b)\n",
    "for i in tqdm(range(2**24)):\n",
    "    key = md5(i.to_bytes(3, 'big')).digest()\n",
    "    c1 = AES.new(key, AES.MODE_ECB).encrypt(iv2)\n",
    "    if bytexor(c1, c1_) == t1:\n",
    "        print(key)\n",
    "        break"
   ]
  },
  {
   "cell_type": "markdown",
   "metadata": {},
   "source": [
    "Okey I got 2 keys, then I can write decryption function"
   ]
  },
  {
   "cell_type": "code",
   "execution_count": 7,
   "metadata": {},
   "outputs": [],
   "source": [
    "def decrypt(c: bytes, iv1: bytes, iv2: bytes) -> bytes:\n",
    "    ciphers = get_ciphers(iv1, iv2)\n",
    "    m = c\n",
    "    for cipher in ciphers[::-1]:\n",
    "        ct = b''\n",
    "        for i in range(0, len(c), 32):\n",
    "            ctt = m[i:i+32]\n",
    "            second = ctt[:16]\n",
    "            first = bytexor(ctt[16:], cipher.encrypt(second))\n",
    "            ct = ct + first + second\n",
    "        m = ct\n",
    "    return m"
   ]
  },
  {
   "cell_type": "markdown",
   "metadata": {},
   "source": [
    "Here only encryption function is used because I reuse the way challenge split the plaintext, and then recover full plaintext"
   ]
  },
  {
   "cell_type": "code",
   "execution_count": 9,
   "metadata": {},
   "outputs": [
    {
     "name": "stdout",
     "output_type": "stream",
     "text": [
      "b'finally now i am able to send my secret with double security and double trust, shaktictf{Well now I know that it is not an awesome encryption scheme}\\x0b\\x0b\\x0b\\x0b\\x0b\\x0b\\x0b\\x0b\\x0b\\x0b\\x0b'\n"
     ]
    }
   ],
   "source": [
    "def get_ciphers(iv1, iv2):\n",
    "    return [\n",
    "        AES.new(keys[0], mode=AES.MODE_CBC, iv=iv1),\n",
    "        AES.new(keys[1], mode=AES.MODE_CFB, iv=iv2, segment_size=8*16),\n",
    "    ]\n",
    "\n",
    "keys = [b'\\x0e\\x98\\xd7\\xa85\\xb5\\x8d\\xd53\\x8e\\x11\\xb3*\\xad\\x8fX', b'\\x192\\xe2\\xb9k\\x83\\x13\\x883\\xfa\\xc3HZt\\xa1\\xe5']\n",
    "print(decrypt(ciphertext, iv1, iv2))"
   ]
  },
  {
   "cell_type": "markdown",
   "metadata": {},
   "source": [
    "Thanks for reading!"
   ]
  },
  {
   "cell_type": "code",
   "execution_count": null,
   "metadata": {},
   "outputs": [],
   "source": []
  }
 ],
 "metadata": {
  "kernelspec": {
   "display_name": "Python 3",
   "language": "python",
   "name": "python3"
  },
  "language_info": {
   "codemirror_mode": {
    "name": "ipython",
    "version": 3
   },
   "file_extension": ".py",
   "mimetype": "text/x-python",
   "name": "python",
   "nbconvert_exporter": "python",
   "pygments_lexer": "ipython3",
   "version": "3.8.7"
  }
 },
 "nbformat": 4,
 "nbformat_minor": 4
}
